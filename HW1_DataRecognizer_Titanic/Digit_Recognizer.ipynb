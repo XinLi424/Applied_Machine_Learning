{
 "cells": [
  {
   "cell_type": "code",
   "execution_count": 6,
   "metadata": {},
   "outputs": [
    {
     "name": "stderr",
     "output_type": "stream",
     "text": [
      "/Users/Ruihao/anaconda/lib/python2.7/site-packages/sklearn/cross_validation.py:44: DeprecationWarning: This module was deprecated in version 0.18 in favor of the model_selection module into which all the refactored classes and functions are moved. Also note that the interface of the new CV iterators are different from that of this module. This module will be removed in 0.20.\n",
      "  \"This module will be removed in 0.20.\", DeprecationWarning)\n"
     ]
    }
   ],
   "source": [
    "%matplotlib inline\n",
    "\n",
    "from sklearn import \\\n",
    "    datasets, \\\n",
    "    cross_validation, \\\n",
    "    preprocessing\n",
    "import os\n",
    "os.chdir(\"/Users/Ruihao/Desktop/course/Applied_Machine_Learning/HW1\")\n",
    "from numpy import *"
   ]
  },
  {
   "cell_type": "code",
   "execution_count": 7,
   "metadata": {
    "collapsed": true
   },
   "outputs": [],
   "source": [
    "train_set = genfromtxt(\"train.csv\", delimiter = \",\", dtype = int)\n",
    "# get rid of the zeroth row\n",
    "train_set = train_set[1:]"
   ]
  },
  {
   "cell_type": "code",
   "execution_count": 8,
   "metadata": {
    "collapsed": true
   },
   "outputs": [],
   "source": [
    "# generate a list of all vectors\n",
    "features = array([line[1:] for line in train_set])\n",
    "# generate a list of all labels\n",
    "labels = array([line[0] for line in train_set])"
   ]
  },
  {
   "cell_type": "code",
   "execution_count": 9,
   "metadata": {},
   "outputs": [
    {
     "name": "stdout",
     "output_type": "stream",
     "text": [
      "Populating the interactive namespace from numpy and matplotlib\n"
     ]
    },
    {
     "data": {
      "text/plain": [
       "<matplotlib.image.AxesImage at 0x110c559d0>"
      ]
     },
     "execution_count": 9,
     "metadata": {},
     "output_type": "execute_result"
    },
    {
     "data": {
      "image/png": "[encoded data removed]",
      "text/plain": [
       "<matplotlib.figure.Figure at 0x118c22a90>"
      ]
     },
     "metadata": {},
     "output_type": "display_data"
    },
    {
     "data": {
      "image/png": "[encoded data removed]",
      "text/plain": [
       "<matplotlib.figure.Figure at 0x165965790>"
      ]
     },
     "metadata": {},
     "output_type": "display_data"
    },
    {
     "data": {
      "image/png": "[encoded data removed]",
      "text/plain": [
       "<matplotlib.figure.Figure at 0x1283e6710>"
      ]
     },
     "metadata": {},
     "output_type": "display_data"
    },
    {
     "data": {
      "image/png": "[encoded data removed]",
      "text/plain": [
       "<matplotlib.figure.Figure at 0x118c86b90>"
      ]
     },
     "metadata": {},
     "output_type": "display_data"
    }
   ],
   "source": [
    "%pylab inline\n",
    "# Write a function to display an MNIST digit. Display one of each digit.\n",
    "#[1,0,16,7,3,8,21,6,10,11]\n",
    "fig, (left,mid,right) = subplots(1,3)\n",
    "left.matshow(features[1].reshape(28,28), cmap='gray')\n",
    "mid.matshow(features[0].reshape(28,28), cmap='gray')\n",
    "right.matshow(features[16].reshape(28,28), cmap='gray')\n",
    "fig, (left,mid,right) = subplots(1,3)\n",
    "left.matshow(features[7].reshape(28,28), cmap='gray')\n",
    "mid.matshow(features[3].reshape(28,28), cmap='gray')\n",
    "right.matshow(features[8].reshape(28,28), cmap='gray')\n",
    "fig, (left,mid,right) = subplots(1,3)\n",
    "left.matshow(features[21].reshape(28,28), cmap='gray')\n",
    "mid.matshow(features[6].reshape(28,28), cmap='gray')\n",
    "right.matshow(features[10].reshape(28,28), cmap='gray')\n",
    "matshow(features[11].reshape(28,28), cmap='gray')"
   ]
  },
  {
   "cell_type": "code",
   "execution_count": 10,
   "metadata": {},
   "outputs": [
    {
     "name": "stdout",
     "output_type": "stream",
     "text": [
      "defaultdict(<type 'float'>, {0: 0.09838095238095237, 1: 0.11152380952380953, 2: 0.09945238095238096, 3: 0.1035952380952381, 4: 0.09695238095238096, 5: 0.09035714285714286, 6: 0.0985, 7: 0.10478571428571429, 8: 0.09673809523809523, 9: 0.09971428571428571})\n"
     ]
    },
    {
     "data": {
      "text/plain": [
       "(array([ 0.10931217,  0.12391534,  0.11050265,  0.11510582,  0.10772487,\n",
       "         0.10039683,  0.10944444,  0.11642857,  0.10748677,  0.11079365]),\n",
       " array([ 0. ,  0.9,  1.8,  2.7,  3.6,  4.5,  5.4,  6.3,  7.2,  8.1,  9. ]),\n",
       " <a list of 10 Patch objects>)"
      ]
     },
     "execution_count": 10,
     "metadata": {},
     "output_type": "execute_result"
    },
    {
     "data": {
      "image/png": "[encoded data removed]",
      "text/plain": [
       "<matplotlib.figure.Figure at 0x118c78ed0>"
      ]
     },
     "metadata": {},
     "output_type": "display_data"
    }
   ],
   "source": [
    "from collections import *\n",
    "\n",
    "map = defaultdict(float)\n",
    "for label in labels:\n",
    "    map[label] += 1\n",
    "size = len(labels)\n",
    "for entry in map:\n",
    "    map[entry] /= size\n",
    "print (map)\n",
    "# Display a normalized histogram of digit counts\n",
    "hist(labels, bins = 10,normed = 1)"
   ]
  },
  {
   "cell_type": "code",
   "execution_count": 13,
   "metadata": {
    "scrolled": false
   },
   "outputs": [
    {
     "name": "stdout",
     "output_type": "stream",
     "text": [
      "1046.59543282\n",
      "489.679487012\n",
      "1380.8772574\n",
      "1832.66499939\n",
      "1392.96159315\n",
      "1356.88098225\n",
      "1066.36766643\n",
      "1446.51132038\n",
      "863.501013317\n",
      "1593.777588\n",
      "910.576740314\n"
     ]
    },
    {
     "data": {
      "image/png": "[encoded data removed]",
      "text/plain": [
       "<matplotlib.figure.Figure at 0x11c5ae690>"
      ]
     },
     "metadata": {},
     "output_type": "display_data"
    },
    {
     "data": {
      "image/png": "[encoded data removed]",
      "text/plain": [
       "<matplotlib.figure.Figure at 0x11d78cfd0>"
      ]
     },
     "metadata": {},
     "output_type": "display_data"
    },
    {
     "data": {
      "image/png": "[encoded data removed]",
      "text/plain": [
       "<matplotlib.figure.Figure at 0x11d913310>"
      ]
     },
     "metadata": {},
     "output_type": "display_data"
    },
    {
     "data": {
      "image/png": "[encoded data removed]",
      "text/plain": [
       "<matplotlib.figure.Figure at 0x1285395d0>"
      ]
     },
     "metadata": {},
     "output_type": "display_data"
    },
    {
     "data": {
      "image/png": "[encoded data removed]",
      "text/plain": [
       "<matplotlib.figure.Figure at 0x118c16a10>"
      ]
     },
     "metadata": {},
     "output_type": "display_data"
    },
    {
     "data": {
      "image/png": "[encoded data removed]",
      "text/plain": [
       "<matplotlib.figure.Figure at 0x128116190>"
      ]
     },
     "metadata": {},
     "output_type": "display_data"
    },
    {
     "data": {
      "image/png": "[encoded data removed]",
      "text/plain": [
       "<matplotlib.figure.Figure at 0x128a5bd90>"
      ]
     },
     "metadata": {},
     "output_type": "display_data"
    },
    {
     "data": {
      "image/png": "[encoded data removed]",
      "text/plain": [
       "<matplotlib.figure.Figure at 0x165990fd0>"
      ]
     },
     "metadata": {},
     "output_type": "display_data"
    },
    {
     "data": {
      "image/png": "[encoded data removed]",
      "text/plain": [
       "<matplotlib.figure.Figure at 0x160d5f810>"
      ]
     },
     "metadata": {},
     "output_type": "display_data"
    },
    {
     "data": {
      "image/png": "[encoded data removed]",
      "text/plain": [
       "<matplotlib.figure.Figure at 0x11d343210>"
      ]
     },
     "metadata": {},
     "output_type": "display_data"
    },
    {
     "data": {
      "image/png": "[encoded data removed]",
      "text/plain": [
       "<matplotlib.figure.Figure at 0x160d7cdd0>"
      ]
     },
     "metadata": {},
     "output_type": "display_data"
    }
   ],
   "source": [
    "# there are two 3 in this set, one is a bad because its nearest neighbor tends\n",
    "# to be different than 3\n",
    "chosen = [1,0,16,7,9,3,8,21,6,10,11] \n",
    "# compute \"distance\" between two image\n",
    "def computeDistance(a, b):\n",
    "    dis = 0\n",
    "    # zip: all pairs of entry a and b \n",
    "    for u,v in zip(a,b):\n",
    "        dis += (u-v)**2\n",
    "    return dis**0.5\n",
    "\n",
    "# return the nearest neighbor of the input image\n",
    "def match(case):\n",
    "    min, id = 2**31, 0\n",
    "    for i in range(len(features)):\n",
    "        if i == case: continue\n",
    "        dis = computeDistance(features[case], features[i])\n",
    "        if dis < min:\n",
    "            min = dis\n",
    "            id = i\n",
    "    print computeDistance(features[case], features[id])\n",
    "    return id\n",
    "# for each digit, find its neighbor and display its picture\n",
    "#9\n",
    "# neighbor2 = match(9)\n",
    "# fig, (source,target) = subplots(1,2)\n",
    "# source.matshow(features[9].reshape(28,28), cmap='gray')\n",
    "# target.matshow(features[neighbor].reshape(28,28), cmap='gray')\n",
    "\n",
    "\n",
    "for digit in chosen:\n",
    "    neighbor = match(digit)\n",
    "    fig, (source,target) = subplots(1,2)\n",
    "    source.matshow(features[digit].reshape(28,28), cmap='gray')\n",
    "    target.matshow(features[neighbor].reshape(28,28), cmap='gray')"
   ]
  },
  {
   "cell_type": "code",
   "execution_count": 14,
   "metadata": {},
   "outputs": [
    {
     "data": {
      "text/plain": [
       "(array([  8.87653558e-09,   8.87653558e-09,   0.00000000e+00,\n",
       "          0.00000000e+00,   0.00000000e+00,   0.00000000e+00,\n",
       "          0.00000000e+00,   0.00000000e+00,   0.00000000e+00,\n",
       "          0.00000000e+00,   0.00000000e+00,   8.87653558e-09,\n",
       "          0.00000000e+00,   8.87653558e-09,   8.87653558e-09,\n",
       "          0.00000000e+00,   0.00000000e+00,   0.00000000e+00,\n",
       "          0.00000000e+00,   0.00000000e+00,   8.87653558e-09,\n",
       "          0.00000000e+00,   0.00000000e+00,   8.87653558e-09,\n",
       "          0.00000000e+00,   0.00000000e+00,   0.00000000e+00,\n",
       "          3.55061423e-08,   0.00000000e+00,   8.87653558e-09,\n",
       "          1.77530712e-08,   0.00000000e+00,   3.55061423e-08,\n",
       "          1.77530712e-08,   2.66296068e-08,   8.87653558e-09,\n",
       "          2.66296068e-08,   4.43826779e-08,   2.66296068e-08,\n",
       "          1.77530712e-08,   1.77530712e-08,   2.66296068e-08,\n",
       "          4.43826779e-08,   7.10122847e-08,   3.55061423e-08,\n",
       "          7.98888203e-08,   5.32592135e-08,   6.21357491e-08,\n",
       "          6.21357491e-08,   1.33148034e-07,   8.87653558e-08,\n",
       "          6.21357491e-08,   8.87653558e-08,   6.21357491e-08,\n",
       "          9.76418914e-08,   1.24271498e-07,   2.21913390e-07,\n",
       "          1.77530712e-07,   2.39666461e-07,   2.48542996e-07,\n",
       "          2.30789925e-07,   1.95283783e-07,   2.48542996e-07,\n",
       "          3.10678745e-07,   3.01802210e-07,   3.81691030e-07,\n",
       "          4.43826779e-07,   3.90567566e-07,   3.46184888e-07,\n",
       "          4.97085993e-07,   7.01246311e-07,   5.85851349e-07,\n",
       "          7.36752454e-07,   6.83493240e-07,   6.92369776e-07,\n",
       "          9.49789308e-07,   7.90011667e-07,   8.34394345e-07,\n",
       "          1.00304852e-06,   9.67542379e-07,   1.02080159e-06,\n",
       "          1.21608538e-06,   1.27822112e-06,   1.35810994e-06,\n",
       "          1.25159152e-06,   1.34923341e-06,   1.32260380e-06,\n",
       "          1.62440601e-06,   1.66878869e-06,   1.60665294e-06,\n",
       "          1.89957862e-06,   1.91733169e-06,   2.02385011e-06,\n",
       "          2.13036854e-06,   2.56531878e-06,   2.65408414e-06,\n",
       "          2.71621989e-06,   2.97363942e-06,   3.16004667e-06,\n",
       "          3.06240478e-06,   3.02689863e-06,   3.58612038e-06,\n",
       "          3.55949077e-06,   4.01219408e-06,   4.31399629e-06,\n",
       "          4.60692197e-06,   5.04187221e-06,   5.60997049e-06,\n",
       "          5.88514309e-06,   6.19582184e-06,   6.82605586e-06,\n",
       "          7.04796925e-06,   7.49179603e-06,   8.51259763e-06,\n",
       "          9.08957244e-06,   9.35586851e-06,   9.59553497e-06,\n",
       "          1.09270153e-05,   1.18057923e-05,   1.22229895e-05,\n",
       "          1.30928900e-05,   1.48948267e-05,   1.54451719e-05,\n",
       "          1.66878869e-05,   1.79572315e-05,   1.79838611e-05,\n",
       "          2.03272665e-05,   2.08509821e-05,   2.28126965e-05,\n",
       "          2.38068684e-05,   2.55022867e-05,   2.58662247e-05,\n",
       "          2.81474943e-05,   3.00825791e-05,   3.12897879e-05,\n",
       "          3.28964409e-05,   3.48137726e-05,   3.65180674e-05,\n",
       "          3.80182019e-05,   4.15421865e-05,   4.14889273e-05,\n",
       "          4.43560483e-05,   4.67349599e-05,   4.98861300e-05,\n",
       "          5.21762762e-05,   5.41646201e-05,   5.66589266e-05,\n",
       "          5.86383941e-05,   6.21357491e-05,   6.40885869e-05,\n",
       "          6.80208922e-05,   7.16070126e-05,   7.58056139e-05,\n",
       "          7.89124013e-05,   8.32530272e-05,   8.72119621e-05,\n",
       "          9.06826875e-05,   9.56002882e-05,   9.85650511e-05,\n",
       "          1.01449925e-04,   1.09314536e-04,   1.12971668e-04,\n",
       "          1.18430738e-04,   1.21288982e-04,   1.27413792e-04,\n",
       "          1.30760246e-04,   1.36707525e-04,   1.45637319e-04,\n",
       "          1.49898056e-04,   1.54034522e-04,   1.64002871e-04,\n",
       "          1.69035867e-04,   1.74281900e-04,   1.81356499e-04,\n",
       "          1.86238593e-04,   1.93836908e-04,   2.01461852e-04,\n",
       "          2.10302881e-04,   2.18487047e-04,   2.26245139e-04,\n",
       "          2.33949972e-04,   2.40296695e-04,   2.51010673e-04,\n",
       "          2.56656150e-04,   2.65124365e-04,   2.77666910e-04,\n",
       "          2.89552591e-04,   2.94922895e-04,   3.04917874e-04,\n",
       "          3.17540307e-04,   3.28911150e-04,   3.39039277e-04,\n",
       "          3.52114414e-04,   3.59890259e-04,   3.70249176e-04,\n",
       "          3.85632212e-04,   3.95600561e-04,   4.06962527e-04,\n",
       "          4.18111456e-04,   4.32695604e-04,   4.48211788e-04,\n",
       "          4.58260026e-04,   4.69204794e-04,   4.80362600e-04,\n",
       "          4.96011932e-04,   5.08652119e-04,   5.23733353e-04,\n",
       "          5.36595453e-04,   5.50087787e-04,   5.63136294e-04,\n",
       "          5.82336241e-04,   5.92375602e-04,   6.06027714e-04,\n",
       "          6.24295624e-04,   6.35604331e-04,   6.51590971e-04,\n",
       "          6.71296880e-04,   6.88792532e-04,   7.03358927e-04,\n",
       "          7.21111998e-04,   7.36424022e-04,   7.60310779e-04,\n",
       "          7.71681621e-04,   7.90366728e-04,   8.02456570e-04,\n",
       "          8.22721701e-04,   8.39986562e-04,   8.57082770e-04,\n",
       "          8.73628632e-04,   8.90964506e-04,   9.07510369e-04,\n",
       "          9.23612404e-04,   9.36163825e-04,   9.53428687e-04,\n",
       "          9.68190366e-04,   9.84381167e-04,   1.00016365e-03,\n",
       "          1.01659411e-03,   1.03781791e-03,   1.04966809e-03,\n",
       "          1.06484696e-03,   1.08372735e-03,   1.10096559e-03,\n",
       "          1.11749369e-03,   1.13177604e-03,   1.15494380e-03,\n",
       "          1.16949244e-03,   1.18272735e-03,   1.20875336e-03,\n",
       "          1.22323986e-03,   1.23564038e-03,   1.24505839e-03,\n",
       "          1.26905166e-03,   1.28131904e-03,   1.29465159e-03,\n",
       "          1.30274699e-03,   1.31102880e-03,   1.32252391e-03,\n",
       "          1.32806287e-03,   1.33922068e-03,   1.35028972e-03,\n",
       "          1.35361842e-03,   1.36146527e-03,   1.36218427e-03,\n",
       "          1.37112295e-03,   1.36393295e-03,   1.36768773e-03,\n",
       "          1.36432352e-03,   1.36511353e-03,   1.36521117e-03,\n",
       "          1.36134100e-03,   1.36247720e-03,   1.35267750e-03,\n",
       "          1.35807444e-03,   1.35776376e-03,   1.35534047e-03,\n",
       "          1.34662371e-03,   1.35055601e-03,   1.34444008e-03,\n",
       "          1.33398352e-03,   1.34289556e-03,   1.33748975e-03,\n",
       "          1.33325564e-03,   1.32429922e-03,   1.31912420e-03,\n",
       "          1.31695833e-03,   1.31267984e-03,   1.31375390e-03,\n",
       "          1.30320857e-03,   1.28976950e-03,   1.28883746e-03,\n",
       "          1.28271265e-03,   1.27413792e-03,   1.27070270e-03,\n",
       "          1.26325529e-03,   1.25287862e-03,   1.24495187e-03,\n",
       "          1.23838323e-03,   1.22983513e-03,   1.21814473e-03,\n",
       "          1.20887763e-03,   1.19866961e-03,   1.18720113e-03,\n",
       "          1.17247496e-03,   1.15744698e-03,   1.14779819e-03,\n",
       "          1.13573498e-03,   1.11754695e-03,   1.10844850e-03,\n",
       "          1.09026048e-03,   1.08030101e-03,   1.06071937e-03,\n",
       "          1.04370305e-03,   1.03158658e-03,   1.02225734e-03,\n",
       "          1.00869400e-03,   1.00011926e-03,   9.82082144e-04,\n",
       "          9.70817820e-04,   9.46682520e-04,   9.24287021e-04,\n",
       "          9.07332838e-04,   8.86366461e-04,   8.74480780e-04,\n",
       "          8.53416761e-04,   8.37039553e-04,   8.16490373e-04,\n",
       "          7.94751737e-04,   7.82635266e-04,   7.71131276e-04,\n",
       "          7.52242008e-04,   7.41314993e-04,   7.22585503e-04,\n",
       "          7.06084023e-04,   6.89706815e-04,   6.74625581e-04,\n",
       "          6.58017583e-04,   6.39181574e-04,   6.20709504e-04,\n",
       "          6.07874033e-04,   5.87875199e-04,   5.67814228e-04,\n",
       "          5.55333819e-04,   5.40705289e-04,   5.26529461e-04,\n",
       "          5.06113429e-04,   4.94343143e-04,   4.81117105e-04,\n",
       "          4.65805081e-04,   4.53688610e-04,   4.40693362e-04,\n",
       "          4.24884252e-04,   4.09030760e-04,   3.97393622e-04,\n",
       "          3.85303780e-04,   3.70879410e-04,   3.61914109e-04,\n",
       "          3.49975169e-04,   3.39314449e-04,   3.28014619e-04,\n",
       "          3.19093701e-04,   3.04500677e-04,   2.98562274e-04,\n",
       "          2.84404200e-04,   2.76921281e-04,   2.67769572e-04,\n",
       "          2.56043669e-04,   2.43545507e-04,   2.36222365e-04,\n",
       "          2.22525871e-04,   2.13480681e-04,   2.03175023e-04,\n",
       "          1.91724292e-04,   1.82856633e-04,   1.76039454e-04,\n",
       "          1.70438360e-04,   1.59475838e-04,   1.50759080e-04,\n",
       "          1.45024838e-04,   1.38243165e-04,   1.30804628e-04,\n",
       "          1.27351656e-04,   1.22194389e-04,   1.21306735e-04,\n",
       "          1.13628532e-04,   1.10779164e-04,   1.06882365e-04,\n",
       "          1.01911505e-04,   9.77040272e-05,   9.30438460e-05,\n",
       "          8.78510727e-05,   8.34305580e-05,   8.09362515e-05,\n",
       "          7.58677496e-05,   7.22638762e-05,   6.97163105e-05,\n",
       "          6.58195114e-05,   6.39909450e-05,   6.17274285e-05,\n",
       "          5.93041342e-05,   5.68719635e-05,   5.53629524e-05,\n",
       "          5.23449303e-05,   5.10312031e-05,   4.82439709e-05,\n",
       "          4.53324672e-05,   4.21724206e-05,   3.94917068e-05,\n",
       "          3.84353991e-05,   3.43699458e-05,   3.21064292e-05,\n",
       "          3.09968623e-05,   2.76326553e-05,   2.73219765e-05,\n",
       "          2.47655343e-05,   2.39133869e-05,   2.36825969e-05,\n",
       "          2.38956338e-05,   2.35760785e-05,   2.24842646e-05,\n",
       "          2.24665116e-05,   2.11350312e-05,   1.97147855e-05,\n",
       "          1.80016142e-05,   1.60487763e-05,   1.43977407e-05,\n",
       "          1.24715325e-05,   1.18057923e-05,   1.04388058e-05,\n",
       "          1.02523986e-05,   1.00482383e-05,   1.01281271e-05,\n",
       "          1.06518427e-05,   1.04920651e-05,   1.07406081e-05,\n",
       "          1.01902629e-05,   1.01458802e-05,   9.50676961e-06,\n",
       "          8.67237527e-06,   8.78777023e-06,   7.28763572e-06,\n",
       "          6.60414248e-06,   5.36142749e-06,   4.70456386e-06,\n",
       "          4.49152701e-06,   3.71926841e-06,   3.03577517e-06,\n",
       "          2.75172603e-06,   2.38778807e-06,   2.10373893e-06,\n",
       "          1.75755405e-06,   1.76643058e-06,   1.45575184e-06,\n",
       "          1.42024569e-06,   1.01192506e-06,   9.58665843e-07,\n",
       "          1.08293734e-06,   9.49789308e-07,   9.23159701e-07,\n",
       "          1.00304852e-06,   1.02967813e-06,   1.02080159e-06,\n",
       "          8.52147416e-07,   9.40912772e-07,   9.76418914e-07,\n",
       "          8.16641274e-07,   7.36752454e-07,   9.49789308e-07,\n",
       "          7.27875918e-07,   7.63382060e-07,   7.90011667e-07,\n",
       "          8.25517809e-07,   7.63382060e-07,   7.45628989e-07,\n",
       "          7.81135131e-07,   4.97085993e-07,   5.50345206e-07,\n",
       "          4.79332922e-07,   3.63937959e-07,   4.61579850e-07,\n",
       "          4.26073708e-07,   3.99444101e-07,   3.37308352e-07,\n",
       "          2.04160318e-07,   2.13036854e-07,   1.24271498e-07,\n",
       "          1.33148034e-07,   1.59777641e-07,   1.77530712e-07,\n",
       "          1.15394963e-07,   7.98888203e-08,   7.98888203e-08,\n",
       "          4.43826779e-08,   2.66296068e-08,   2.66296068e-08,\n",
       "          6.21357491e-08,   2.66296068e-08,   8.87653558e-09,\n",
       "          8.87653558e-09,   1.77530712e-08]),\n",
       " array([ 1291.70817138,  1297.52892614,  1303.34968091,  1309.17043567,\n",
       "         1314.99119043,  1320.8119452 ,  1326.63269996,  1332.45345473,\n",
       "         1338.27420949,  1344.09496426,  1349.91571902,  1355.73647379,\n",
       "         1361.55722855,  1367.37798331,  1373.19873808,  1379.01949284,\n",
       "         1384.84024761,  1390.66100237,  1396.48175714,  1402.3025119 ,\n",
       "         1408.12326667,  1413.94402143,  1419.7647762 ,  1425.58553096,\n",
       "         1431.40628572,  1437.22704049,  1443.04779525,  1448.86855002,\n",
       "         1454.68930478,  1460.51005955,  1466.33081431,  1472.15156908,\n",
       "         1477.97232384,  1483.7930786 ,  1489.61383337,  1495.43458813,\n",
       "         1501.2553429 ,  1507.07609766,  1512.89685243,  1518.71760719,\n",
       "         1524.53836196,  1530.35911672,  1536.17987149,  1542.00062625,\n",
       "         1547.82138101,  1553.64213578,  1559.46289054,  1565.28364531,\n",
       "         1571.10440007,  1576.92515484,  1582.7459096 ,  1588.56666437,\n",
       "         1594.38741913,  1600.20817389,  1606.02892866,  1611.84968342,\n",
       "         1617.67043819,  1623.49119295,  1629.31194772,  1635.13270248,\n",
       "         1640.95345725,  1646.77421201,  1652.59496678,  1658.41572154,\n",
       "         1664.2364763 ,  1670.05723107,  1675.87798583,  1681.6987406 ,\n",
       "         1687.51949536,  1693.34025013,  1699.16100489,  1704.98175966,\n",
       "         1710.80251442,  1716.62326918,  1722.44402395,  1728.26477871,\n",
       "         1734.08553348,  1739.90628824,  1745.72704301,  1751.54779777,\n",
       "         1757.36855254,  1763.1893073 ,  1769.01006207,  1774.83081683,\n",
       "         1780.65157159,  1786.47232636,  1792.29308112,  1798.11383589,\n",
       "         1803.93459065,  1809.75534542,  1815.57610018,  1821.39685495,\n",
       "         1827.21760971,  1833.03836447,  1838.85911924,  1844.679874  ,\n",
       "         1850.50062877,  1856.32138353,  1862.1421383 ,  1867.96289306,\n",
       "         1873.78364783,  1879.60440259,  1885.42515736,  1891.24591212,\n",
       "         1897.06666688,  1902.88742165,  1908.70817641,  1914.52893118,\n",
       "         1920.34968594,  1926.17044071,  1931.99119547,  1937.81195024,\n",
       "         1943.632705  ,  1949.45345976,  1955.27421453,  1961.09496929,\n",
       "         1966.91572406,  1972.73647882,  1978.55723359,  1984.37798835,\n",
       "         1990.19874312,  1996.01949788,  2001.84025265,  2007.66100741,\n",
       "         2013.48176217,  2019.30251694,  2025.1232717 ,  2030.94402647,\n",
       "         2036.76478123,  2042.585536  ,  2048.40629076,  2054.22704553,\n",
       "         2060.04780029,  2065.86855505,  2071.68930982,  2077.51006458,\n",
       "         2083.33081935,  2089.15157411,  2094.97232888,  2100.79308364,\n",
       "         2106.61383841,  2112.43459317,  2118.25534794,  2124.0761027 ,\n",
       "         2129.89685746,  2135.71761223,  2141.53836699,  2147.35912176,\n",
       "         2153.17987652,  2159.00063129,  2164.82138605,  2170.64214082,\n",
       "         2176.46289558,  2182.28365034,  2188.10440511,  2193.92515987,\n",
       "         2199.74591464,  2205.5666694 ,  2211.38742417,  2217.20817893,\n",
       "         2223.0289337 ,  2228.84968846,  2234.67044323,  2240.49119799,\n",
       "         2246.31195275,  2252.13270752,  2257.95346228,  2263.77421705,\n",
       "         2269.59497181,  2275.41572658,  2281.23648134,  2287.05723611,\n",
       "         2292.87799087,  2298.69874563,  2304.5195004 ,  2310.34025516,\n",
       "         2316.16100993,  2321.98176469,  2327.80251946,  2333.62327422,\n",
       "         2339.44402899,  2345.26478375,  2351.08553852,  2356.90629328,\n",
       "         2362.72704804,  2368.54780281,  2374.36855757,  2380.18931234,\n",
       "         2386.0100671 ,  2391.83082187,  2397.65157663,  2403.4723314 ,\n",
       "         2409.29308616,  2415.11384092,  2420.93459569,  2426.75535045,\n",
       "         2432.57610522,  2438.39685998,  2444.21761475,  2450.03836951,\n",
       "         2455.85912428,  2461.67987904,  2467.50063381,  2473.32138857,\n",
       "         2479.14214333,  2484.9628981 ,  2490.78365286,  2496.60440763,\n",
       "         2502.42516239,  2508.24591716,  2514.06667192,  2519.88742669,\n",
       "         2525.70818145,  2531.52893621,  2537.34969098,  2543.17044574,\n",
       "         2548.99120051,  2554.81195527,  2560.63271004,  2566.4534648 ,\n",
       "         2572.27421957,  2578.09497433,  2583.9157291 ,  2589.73648386,\n",
       "         2595.55723862,  2601.37799339,  2607.19874815,  2613.01950292,\n",
       "         2618.84025768,  2624.66101245,  2630.48176721,  2636.30252198,\n",
       "         2642.12327674,  2647.94403151,  2653.76478627,  2659.58554103,\n",
       "         2665.4062958 ,  2671.22705056,  2677.04780533,  2682.86856009,\n",
       "         2688.68931486,  2694.51006962,  2700.33082439,  2706.15157915,\n",
       "         2711.97233391,  2717.79308868,  2723.61384344,  2729.43459821,\n",
       "         2735.25535297,  2741.07610774,  2746.8968625 ,  2752.71761727,\n",
       "         2758.53837203,  2764.3591268 ,  2770.17988156,  2776.00063632,\n",
       "         2781.82139109,  2787.64214585,  2793.46290062,  2799.28365538,\n",
       "         2805.10441015,  2810.92516491,  2816.74591968,  2822.56667444,\n",
       "         2828.3874292 ,  2834.20818397,  2840.02893873,  2845.8496935 ,\n",
       "         2851.67044826,  2857.49120303,  2863.31195779,  2869.13271256,\n",
       "         2874.95346732,  2880.77422209,  2886.59497685,  2892.41573161,\n",
       "         2898.23648638,  2904.05724114,  2909.87799591,  2915.69875067,\n",
       "         2921.51950544,  2927.3402602 ,  2933.16101497,  2938.98176973,\n",
       "         2944.80252449,  2950.62327926,  2956.44403402,  2962.26478879,\n",
       "         2968.08554355,  2973.90629832,  2979.72705308,  2985.54780785,\n",
       "         2991.36856261,  2997.18931738,  3003.01007214,  3008.8308269 ,\n",
       "         3014.65158167,  3020.47233643,  3026.2930912 ,  3032.11384596,\n",
       "         3037.93460073,  3043.75535549,  3049.57611026,  3055.39686502,\n",
       "         3061.21761978,  3067.03837455,  3072.85912931,  3078.67988408,\n",
       "         3084.50063884,  3090.32139361,  3096.14214837,  3101.96290314,\n",
       "         3107.7836579 ,  3113.60441267,  3119.42516743,  3125.24592219,\n",
       "         3131.06667696,  3136.88743172,  3142.70818649,  3148.52894125,\n",
       "         3154.34969602,  3160.17045078,  3165.99120555,  3171.81196031,\n",
       "         3177.63271507,  3183.45346984,  3189.2742246 ,  3195.09497937,\n",
       "         3200.91573413,  3206.7364889 ,  3212.55724366,  3218.37799843,\n",
       "         3224.19875319,  3230.01950796,  3235.84026272,  3241.66101748,\n",
       "         3247.48177225,  3253.30252701,  3259.12328178,  3264.94403654,\n",
       "         3270.76479131,  3276.58554607,  3282.40630084,  3288.2270556 ,\n",
       "         3294.04781036,  3299.86856513,  3305.68931989,  3311.51007466,\n",
       "         3317.33082942,  3323.15158419,  3328.97233895,  3334.79309372,\n",
       "         3340.61384848,  3346.43460325,  3352.25535801,  3358.07611277,\n",
       "         3363.89686754,  3369.7176223 ,  3375.53837707,  3381.35913183,\n",
       "         3387.1798866 ,  3393.00064136,  3398.82139613,  3404.64215089,\n",
       "         3410.46290565,  3416.28366042,  3422.10441518,  3427.92516995,\n",
       "         3433.74592471,  3439.56667948,  3445.38743424,  3451.20818901,\n",
       "         3457.02894377,  3462.84969854,  3468.6704533 ,  3474.49120806,\n",
       "         3480.31196283,  3486.13271759,  3491.95347236,  3497.77422712,\n",
       "         3503.59498189,  3509.41573665,  3515.23649142,  3521.05724618,\n",
       "         3526.87800094,  3532.69875571,  3538.51951047,  3544.34026524,\n",
       "         3550.16102   ,  3555.98177477,  3561.80252953,  3567.6232843 ,\n",
       "         3573.44403906,  3579.26479383,  3585.08554859,  3590.90630335,\n",
       "         3596.72705812,  3602.54781288,  3608.36856765,  3614.18932241,\n",
       "         3620.01007718,  3625.83083194,  3631.65158671,  3637.47234147,\n",
       "         3643.29309623,  3649.113851  ,  3654.93460576,  3660.75536053,\n",
       "         3666.57611529,  3672.39687006,  3678.21762482,  3684.03837959,\n",
       "         3689.85913435,  3695.67988912,  3701.50064388,  3707.32139864,\n",
       "         3713.14215341,  3718.96290817,  3724.78366294,  3730.6044177 ,\n",
       "         3736.42517247,  3742.24592723,  3748.066682  ,  3753.88743676,\n",
       "         3759.70819152,  3765.52894629,  3771.34970105,  3777.17045582,\n",
       "         3782.99121058,  3788.81196535,  3794.63272011,  3800.45347488,\n",
       "         3806.27422964,  3812.09498441,  3817.91573917,  3823.73649393,\n",
       "         3829.5572487 ,  3835.37800346,  3841.19875823,  3847.01951299,\n",
       "         3852.84026776,  3858.66102252,  3864.48177729,  3870.30253205,\n",
       "         3876.12328681,  3881.94404158,  3887.76479634,  3893.58555111,\n",
       "         3899.40630587,  3905.22706064,  3911.0478154 ,  3916.86857017,\n",
       "         3922.68932493,  3928.5100797 ,  3934.33083446,  3940.15158922,\n",
       "         3945.97234399,  3951.79309875,  3957.61385352,  3963.43460828,\n",
       "         3969.25536305,  3975.07611781,  3980.89687258,  3986.71762734,\n",
       "         3992.5383821 ,  3998.35913687,  4004.17989163,  4010.0006464 ,\n",
       "         4015.82140116,  4021.64215593,  4027.46291069,  4033.28366546,\n",
       "         4039.10442022,  4044.92517499,  4050.74592975,  4056.56668451,\n",
       "         4062.38743928,  4068.20819404,  4074.02894881,  4079.84970357,\n",
       "         4085.67045834,  4091.4912131 ,  4097.31196787,  4103.13272263,\n",
       "         4108.95347739,  4114.77423216,  4120.59498692,  4126.41574169,\n",
       "         4132.23649645,  4138.05725122,  4143.87800598,  4149.69876075,\n",
       "         4155.51951551,  4161.34027028,  4167.16102504,  4172.9817798 ,\n",
       "         4178.80253457,  4184.62328933,  4190.4440441 ,  4196.26479886,\n",
       "         4202.08555363]),\n",
       " <a list of 500 Patch objects>)"
      ]
     },
     "execution_count": 14,
     "metadata": {},
     "output_type": "execute_result"
    },
    {
     "data": {
      "image/png": "[encoded data removed]",
      "text/plain": [
       "<matplotlib.figure.Figure at 0x11c1aa050>"
      ]
     },
     "metadata": {},
     "output_type": "display_data"
    }
   ],
   "source": [
    "# group all entries with label = 1\n",
    "one = []\n",
    "for i,label in enumerate(labels):\n",
    "    if label == 1: one.append(features[i])\n",
    "# group all entries with label = 0\n",
    "zero = []\n",
    "for i,label in enumerate(labels):\n",
    "    if label == 0: zero.append(features[i])\n",
    "#print len(zero) \n",
    "from sklearn.metrics.pairwise import euclidean_distances\n",
    "# find all distances between any two zero digits\n",
    "dis0to0 = euclidean_distances(zero, zero)\n",
    "dis0to0 = dis0to0.flatten()\n",
    "# find all distances between any two one digits\n",
    "dis1to1 = euclidean_distances(one, one)\n",
    "dis1to1 = dis1to1.flatten()\n",
    "# place all dis0to0 and dis1to1 to genuine group\n",
    "genuine = np.append(dis0to0, dis1to1)\n",
    "hist(genuine, bins = 80, normed = True)\n",
    "# find all diatnces between any one and zero digits\n",
    "# place all dis1to0 to imposter group\n",
    "dis1to0 = euclidean_distances(one, zero)\n",
    "imposter = dis1to0.flatten()\n",
    "# generate the histogram\n",
    "hist(imposter, bins = 500, normed = True)\n",
    "# print genuine\n",
    "# print imposter"
   ]
  },
  {
   "cell_type": "code",
   "execution_count": 15,
   "metadata": {},
   "outputs": [
    {
     "name": "stdout",
     "output_type": "stream",
     "text": [
      "[0.22097916401799592, 0.22927474952118868, 0.23769767627843646, 0.2462116489564579, 0.25489602514835974, 0.26371086973461344, 0.27260732755615524, 0.28171038169566875, 0.29093862397624604, 0.3003261966181772, 0.309848953997203, 0.3195764109041844, 0.3294932392252074, 0.33960702612033644, 0.34991900193985226, 0.36041691444554264, 0.37108666587377426, 0.38194666021416296, 0.39301145661169734, 0.404258293586184, 0.4156442114069876, 0.4271393740798005, 0.43878863812527424, 0.450617738370114, 0.46251250856118736, 0.47450468148281816, 0.4865455045051326, 0.49865922578158, 0.5107608486136003, 0.5228778508241296, 0.5348815582796422, 0.5468883928754517, 0.5588349915721006, 0.5706853666238778, 0.5824340839837102, 0.5940755045461443, 0.6055943001972661, 0.6169664791066016, 0.6281359065425927, 0.6391519503102533, 0.6499772385198066, 0.6606629332370926, 0.6712265156890167, 0.6816452243953853, 0.6919071659701517, 0.7020223370093466, 0.7120157033707496, 0.7219006451136638, 0.7317344247907379, 0.7414949473615138, 0.7511634499842105, 0.7608188288705795, 0.7704017196195757, 0.7799449828366136, 0.7894591790282693, 0.7989453334864436, 0.8083394167319435, 0.817766514376643, 0.8270920568585877, 0.8362891302653865, 0.8453824441318444, 0.854377124917464, 0.8632144233963409, 0.87190254190368, 0.8804394298556799, 0.8887401418183757, 0.8968256962757297, 0.9046489298003142, 0.9122077405437328, 0.9194353820032564, 0.9263432861835764, 0.9329088966628799, 0.9391622032292594, 0.9450587082142285, 0.9506157903155028, 0.9558153531310364, 0.9606553460770282, 0.9651218251836298, 0.9692228389922611, 0.9729741769981913, 0.9763718918276033, 0.9794736561499059, 0.982257221130856, 0.9847540632318021, 0.9869585433472909, 0.9888948583661769, 0.9906126324164489, 0.9921169919576104, 0.9934078344604709, 0.9945167901801643, 0.99546831232852, 0.9962728588829239, 0.9969490388913723, 0.9975114114988537, 0.9979839685358421, 0.9983726566953611, 0.998691522476449, 0.9989519978837975, 0.9991575176452736, 0.9993310995640459, 0.9994664893595206, 0.9995727096004232, 0.9996613460852305, 0.9997305020239262, 0.9997860215803439, 0.9998288787817892, 0.9998656354964258, 0.9998933696423372, 0.9999171051498361, 0.9999339712016011, 0.9999500682844406, 0.9999617566121075, 0.9999703177994775, 0.9999771359906166, 0.9999835953295904, 0.9999879015555728, 0.9999905673145144, 0.999993233073456, 0.9999955912448274, 0.9999969753888932, 0.9999981032099838, 0.9999987183851242, 0.9999991285018844, 0.9999992822956696, 0.9999995386186448, 0.9999995898832398, 0.9999997949416198, 0.999999846206215, 0.99999989747081, 0.99999989747081, 0.99999989747081, 0.999999948735405, 1.0, 1.0, 1.0, 1.0, 1.0, 1.0, 1.0, 1.0, 1.0, 1.0, 1.0, 1.0, 1.0, 1.0, 1.0, 1.0, 1.0, 1.0]\n",
      "[1.1883671463398705e-06, 1.8083847879084986e-06, 2.2733980190849695e-06, 3.5651014390196116e-06, 5.011809269346411e-06, 6.7168577836601375e-06, 9.145260213137265e-06, 1.338204743052289e-05, 1.76705027847059e-05, 2.5007378209934667e-05, 3.379096146549023e-05, 4.7276345169607895e-05, 6.293179061921575e-05, 8.163565613986937e-05, 0.00010700471130738573, 0.00013325212480045766, 0.00016776644018111128, 0.0002084809319774512, 0.0002622157942467323, 0.0003239075495828108, 0.0003989813523494122, 0.0004996308828307195, 0.0006266311630786935, 0.0007883007631177133, 0.0009892898152595434, 0.0012488188663928117, 0.001577996565928956, 0.001984366461840394, 0.0024808455883264732, 0.0030825210413320293, 0.0038023615231932064, 0.004651165674500658, 0.005670629681649875, 0.006850316581007785, 0.008234712638356937, 0.009885406272759814, 0.011804360873414719, 0.014036166042377793, 0.01658035676641786, 0.019525182223184858, 0.022900248255063684, 0.026705296521370353, 0.031052033533860816, 0.03593632584159128, 0.04142854544687978, 0.04758175552621724, 0.05450699090558123, 0.06220693832808523, 0.07072908081144602, 0.08009873574269433, 0.09039485203485656, 0.10164099035831232, 0.11386634321035215, 0.12714898114567685, 0.14160975593625558, 0.1572383856228656, 0.17403290681630862, 0.19198603430929623, 0.21099164174884655, 0.23110372233791293, 0.2523597871438102, 0.27476061118859035, 0.29837031463001895, 0.3230794126862223, 0.3488054946790086, 0.37521426776329875, 0.4021882902641523, 0.4295193912584126, 0.4568282232857132, 0.4840369741320373, 0.5111609375658769, 0.5380378239695514, 0.5647686962186365, 0.5911613488442458, 0.6172162468596106, 0.6428319657121977, 0.6679469169829445, 0.6925250363123665, 0.7163207450462657, 0.7392586593730547, 0.7612569886321832, 0.7822067647231455, 0.8023247354798069, 0.8213654255842426, 0.839095243389992, 0.8555411079963262, 0.8709034401058825, 0.8852144289678856, 0.8983566845755317, 0.9103452940247659, 0.921203507977147, 0.9310213839951126, 0.9398969365341675, 0.9478104800341919, 0.9549100953752471, 0.9612548392376924, 0.9669124485488694, 0.9718504240507323, 0.9760478918160151, 0.9796173333785257, 0.9826348559037666, 0.9852137676157345, 0.9875144464110486, 0.9895115232345411, 0.9912000379450797, 0.9926262335250979, 0.9938722623121037, 0.9949579648706272, 0.9958854079261402, 0.996628550737697, 0.9972200992358903, 0.9977035063237666, 0.9981655744711456, 0.998564555823495, 0.9988441321117056, 0.9990531813931879, 0.9992617139933021, 0.9994650797797366, 0.9996302111449411, 0.9997364925023333, 0.9998002509831413, 0.9998409654749376, 0.9998679879104827, 0.9998877768068761, 0.999907927380227, 0.9999261662325165, 0.9999421833549237, 0.9999581488091941, 0.9999726675556342, 0.9999818644839841, 0.9999902347221453, 0.9999943681730891, 0.9999972615887497, 0.9999988116328536, 0.9999996899911792, 0.9999999483318632, 1.0, 1.0, 1.0, 1.0, 1.0, 1.0, 1.0, 1.0, 1.0, 1.0, 1.0, 1.0, 1.0, 1.0]\n"
     ]
    }
   ],
   "source": [
    "# imposter, genuine\n",
    "x, y = [], []\n",
    "for i in range(1500, 4500, 20):\n",
    "# set i to be the threshold，all value smaller than threshold \n",
    "# are considered as genuine, others are considered as imposter\n",
    "    count1 = (genuine<i).sum()\n",
    "    count2 = (imposter<i).sum()\n",
    "    x.append(float(count1)/len(genuine))\n",
    "    y.append(float(count2)/len(imposter))\n",
    "\n",
    "print (x)\n",
    "print (y)"
   ]
  },
  {
   "cell_type": "code",
   "execution_count": 16,
   "metadata": {},
   "outputs": [
    {
     "data": {
      "text/plain": [
       "[<matplotlib.lines.Line2D at 0x11ffbb4d0>]"
      ]
     },
     "execution_count": 16,
     "metadata": {},
     "output_type": "execute_result"
    },
    {
     "data": {
      "image/png": "[encoded data removed]",
      "text/plain": [
       "<matplotlib.figure.Figure at 0x11ee1e6d0>"
      ]
     },
     "metadata": {},
     "output_type": "display_data"
    }
   ],
   "source": [
    "from matplotlib import pyplot as plt\n",
    "plt.xlabel(\"FPR\")\n",
    "plt.ylabel(\"TPR\")\n",
    "plt.plot(y,x)"
   ]
  },
  {
   "cell_type": "code",
   "execution_count": 17,
   "metadata": {},
   "outputs": [
    {
     "name": "stdout",
     "output_type": "stream",
     "text": [
      "939/1000\n"
     ]
    }
   ],
   "source": [
    "from collections import *\n",
    "from sklearn.metrics import confusion_matrix\n",
    "\n",
    "# self implemented kNN algoithm\n",
    "# current test case, whole training case, label set, k value\n",
    "def kNN(v, data, labels, k):\n",
    "    # row number\n",
    "    size = data.shape[0]\n",
    "    # repeat and expand the test entry to become a 2d matrix\n",
    "    # find distance between case and training set\n",
    "    diff = tile(v, (size, 1)) - data\n",
    "    diff = diff ** 2\n",
    "    sumDiff = diff.sum(axis = 1)\n",
    "    dis = sumDiff**0.5\n",
    "    # sort list and return the id of entry\n",
    "    sortedID = dis.argsort()\n",
    "    \n",
    "    # create a map that shows frequency of all candidate digits\n",
    "    cnt = defaultdict(int)\n",
    "    for i in range(k):\n",
    "        res = labels[sortedID[i]]\n",
    "        cnt[res] += 1\n",
    "        # sort the map based on the frequency count\n",
    "    od = sorted(cnt.items(), key=lambda t: t[1], reverse=True)\n",
    "    return od[0][0]\n",
    "\n",
    "cnt = 0\n",
    "y = labels[:1000]\n",
    "pred = []\n",
    "cnt = 0\n",
    "for i in range(1000):\n",
    "    id = kNN(features[i], features[1000:8000], labels[1000:8000], 10)\n",
    "    # push the generated prediction to list\n",
    "    pred.append(id)\n",
    "    if y[i] == id:\n",
    "        cnt += 1\n",
    "pred = array(pred)\n",
    "print(str(cnt)+\"/1000\")\n",
    "#print(confusion_matrix(y, pred))"
   ]
  },
  {
   "cell_type": "code",
   "execution_count": 18,
   "metadata": {
    "scrolled": true
   },
   "outputs": [
    {
     "name": "stdout",
     "output_type": "stream",
     "text": [
      "[[1361    0    2    0    0    2    5    0    1    0]\n",
      " [   0 1564    1    1    1    1    3    1    1    2]\n",
      " [   9   18 1365    4    4    1    0   21    3    2]\n",
      " [   0    4    7 1371    0   11    1    4    8    4]\n",
      " [   0   16    1    0 1311    0    5    1    0   34]\n",
      " [   4    1    2   21    0 1226   10    1    2    9]\n",
      " [   9    2    0    0    3    5 1380    0    0    0]\n",
      " [   1   23    3    0    6    0    0 1412    0   19]\n",
      " [   9   12    7   23    3   29    6    4 1233   17]\n",
      " [   4    3    0    7   14    4    2   23    3 1307]]\n",
      "[[1341    0    2    0    0    2    3    0    1    1]\n",
      " [   0 1520    5    0    0    0    1    6    0    0]\n",
      " [   8   19 1329    5    1    0    2   30    3    0]\n",
      " [   4    2   12 1442    0   15    1   10    5    8]\n",
      " [   3   15    0    0 1327    0    3    2    1   37]\n",
      " [   6    1    0   27    2 1182   16    1    0   10]\n",
      " [   9    3    0    0    1    8 1357    0    2    0]\n",
      " [   0   19    3    3    3    0    0 1416    0   16]\n",
      " [   6   12    9   24   10   27    5    3 1243   12]\n",
      " [   5    3    4   15   17    3    0   12    2 1337]]\n",
      "[[1408    0    0    0    0    1    2    0    0    0]\n",
      " [   0 1574    2    0    1    0    0    0    0    0]\n",
      " [  14   11 1294    4    0    2    2   23    1    2]\n",
      " [   2    6   15 1389    0   13    0    7    5    5]\n",
      " [   0   14    0    0 1261    0    7    1    0   33]\n",
      " [   5    2    0   27    2 1210   17    0    3    8]\n",
      " [   8    2    0    0    1    4 1343    0    0    0]\n",
      " [   1   12    4    0    3    0    0 1440    0   17]\n",
      " [   9   26    9   21    6   20    6    4 1254   14]\n",
      " [   8    5    2   12   13    6    0   24    2 1351]]\n"
     ]
    }
   ],
   "source": [
    "# use sklearn's kNN to do cross validation.\n",
    "from sklearn.neighbors import KNeighborsClassifier\n",
    "def crossValidation():\n",
    "    neighbor = KNeighborsClassifier(n_neighbors=3)\n",
    "    all_folds = cross_validation.KFold(len(features), n_folds = 3)\n",
    "    loop = 1\n",
    "    for train, test in all_folds:\n",
    "        test_attributes = features[test]\n",
    "        test_labels = labels[test]\n",
    "        neighbor.fit(features[train],labels[train])\n",
    "        prediction = neighbor.predict(test_attributes)\n",
    "        print(confusion_matrix(test_labels, prediction))\n",
    "crossValidation()"
   ]
  },
  {
   "cell_type": "code",
   "execution_count": 30,
   "metadata": {
    "collapsed": true
   },
   "outputs": [],
   "source": [
    "# read the test set ad get rid of the first line\n",
    "test = genfromtxt(\"test.csv\", delimiter=\",\", dtype=int)\n",
    "#test = test[1:]"
   ]
  },
  {
   "cell_type": "code",
   "execution_count": 31,
   "metadata": {
    "collapsed": true
   },
   "outputs": [],
   "source": [
    "from sklearn.metrics import confusion_matrix\n",
    "from sklearn.neighbors import KNeighborsClassifier\n",
    "import numpy as np\n",
    "# use sklearn's kNN to make prediction on test sets\n",
    "neigh = KNeighborsClassifier(n_neighbors=3)\n",
    "neigh.fit(features,labels)\n",
    "y_prediction = neighbor.predict(test)\n",
    "import pandas as spd\n",
    "y_prediction = spd.Series(y_prediction)\n",
    "#y_prediction.drop(y_prediction.index[[0]])\n",
    "y_prediction.to_csv('submission.csv')\n",
    "# the final accuracy is 96.86% with k = 3"
   ]
  },
  {
   "cell_type": "code",
   "execution_count": 32,
   "metadata": {},
   "outputs": [
    {
     "name": "stdout",
     "output_type": "stream",
     "text": [
      "28001\n",
      "0        1\n",
      "1        2\n",
      "2        0\n",
      "3        9\n",
      "4        9\n",
      "5        3\n",
      "6        7\n",
      "7        0\n",
      "8        3\n",
      "9        0\n",
      "10       3\n",
      "11       5\n",
      "12       7\n",
      "13       4\n",
      "14       0\n",
      "15       4\n",
      "16       3\n",
      "17       3\n",
      "18       1\n",
      "19       9\n",
      "20       0\n",
      "21       9\n",
      "22       1\n",
      "23       1\n",
      "24       5\n",
      "25       7\n",
      "26       4\n",
      "27       2\n",
      "28       7\n",
      "29       4\n",
      "        ..\n",
      "27971    5\n",
      "27972    0\n",
      "27973    4\n",
      "27974    8\n",
      "27975    0\n",
      "27976    3\n",
      "27977    6\n",
      "27978    0\n",
      "27979    1\n",
      "27980    9\n",
      "27981    3\n",
      "27982    1\n",
      "27983    1\n",
      "27984    0\n",
      "27985    4\n",
      "27986    5\n",
      "27987    2\n",
      "27988    2\n",
      "27989    9\n",
      "27990    6\n",
      "27991    7\n",
      "27992    6\n",
      "27993    1\n",
      "27994    9\n",
      "27995    7\n",
      "27996    9\n",
      "27997    7\n",
      "27998    3\n",
      "27999    9\n",
      "28000    2\n",
      "Length: 28001, dtype: int64\n"
     ]
    }
   ],
   "source": [
    "print len(y_prediction)\n",
    "print y_prediction"
   ]
  }
 ],
 "metadata": {
  "kernelspec": {
   "display_name": "Python 2",
   "language": "python",
   "name": "python2"
  },
  "language_info": {
   "codemirror_mode": {
    "name": "ipython",
    "version": 2
   },
   "file_extension": ".py",
   "mimetype": "text/x-python",
   "name": "python",
   "nbconvert_exporter": "python",
   "pygments_lexer": "ipython2",
   "version": "2.7.13"
  }
 },
 "nbformat": 4,
 "nbformat_minor": 2
}
