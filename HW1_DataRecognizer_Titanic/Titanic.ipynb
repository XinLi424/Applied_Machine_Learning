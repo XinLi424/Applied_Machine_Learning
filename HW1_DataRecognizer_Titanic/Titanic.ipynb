{
 "cells": [
  {
   "cell_type": "code",
   "execution_count": 2,
   "metadata": {},
   "outputs": [
    {
     "name": "stderr",
     "output_type": "stream",
     "text": [
      "/Users/Ruihao/anaconda/lib/python2.7/site-packages/sklearn/cross_validation.py:44: DeprecationWarning: This module was deprecated in version 0.18 in favor of the model_selection module into which all the refactored classes and functions are moved. Also note that the interface of the new CV iterators are different from that of this module. This module will be removed in 0.20.\n",
      "  \"This module will be removed in 0.20.\", DeprecationWarning)\n"
     ]
    }
   ],
   "source": [
    "from sklearn import\\\n",
    "    linear_model, \\\n",
    "    cross_validation,\\\n",
    "    neighbors\n",
    "import pandas as pd\n",
    "import numpy as np\n",
    "import os\n",
    "os.chdir(\"/Users/ruihao/Desktop/course/Applied_Machine_Learning/HW1/titantic\")"
   ]
  },
  {
   "cell_type": "code",
   "execution_count": 3,
   "metadata": {},
   "outputs": [
    {
     "name": "stdout",
     "output_type": "stream",
     "text": [
      "891\n",
      "6\n"
     ]
    }
   ],
   "source": [
    "def construct_feature_set(filename):\n",
    "    data_set = pd.read_csv(filename)\n",
    "    \n",
    "    # Age col preprocessing, replace that missing value with mean of the age column\n",
    "    age_mean = data_set['Age'].mean(skipna = True)\n",
    "    age = np.array(data_set['Age'])\n",
    "    age2 = []\n",
    "    # reconstruct the age column, all entry with nan should have value = average\n",
    "    for i in age:\n",
    "        if np.isnan(i): age2.append(age_mean)\n",
    "        else: age2.append(i)\n",
    "    age2 = np.array(age2)\n",
    "    \n",
    "    # reconstruct the sex column, map string of value into either 0 or 1\n",
    "    sex = np.array(data_set['Sex'])\n",
    "    sex2 = []\n",
    "    for i in sex:\n",
    "        if i == \"male\": sex2.append(1)\n",
    "        else: sex2.append(0)\n",
    "    sex2 = np.array(sex2)\n",
    "    \n",
    "    pclass = datapreprocessing(data_set['Pclass'])\n",
    "    sibsp  = datapreprocessing(data_set['SibSp'])\n",
    "    fare   = datapreprocessing(data_set['Fare'])\n",
    "    parch  = datapreprocessing(data_set['Parch'])\n",
    "    # concatenate all fetures together\n",
    "    data   = np.r_[pclass[None,:],sibsp[None,:],parch[None,:],fare[None,:],sex2[None,:],age2[None,:]]\n",
    "    #data   = np.r_[pclass[:,None],sibsp[:,None],parch[:,None],fare[:,None],sex2[:,None],age2[:,None]]\n",
    "    data   = data.T\n",
    "    print len(data)\n",
    "    print len(data[0])\n",
    "    return data\n",
    "    \n",
    "def datapreprocessing(data_set):\n",
    "    array = np.array(data_set)\n",
    "    res = []\n",
    "    for i in array:\n",
    "        if np.isnan(i):\n",
    "            res.append(0)\n",
    "        else:\n",
    "            res.append(i)\n",
    "    return np.array(res)\n",
    "\n",
    "# return the label cloumn\n",
    "def construct_label_set(filename):\n",
    "    data_set = pd.read_csv(filename)\n",
    "    label = np.array(data_set['Survived'])\n",
    "    return label\n",
    "\n",
    "train_set = construct_feature_set(\"train.csv\")\n",
    "label_set = construct_label_set(\"train.csv\")"
   ]
  },
  {
   "cell_type": "code",
   "execution_count": 4,
   "metadata": {},
   "outputs": [
    {
     "name": "stdout",
     "output_type": "stream",
     "text": [
      "418\n",
      "6\n",
      "418\n",
      "2\n"
     ]
    }
   ],
   "source": [
    "# use sklearn logisticregresssion to train dataset\n",
    "logistic = linear_model.LogisticRegression()\n",
    "logistic.fit(train_set,label_set)\n",
    "test_set = construct_feature_set(\"test.csv\")\n",
    "x = logistic.predict(test_set)\n",
    "ID_set = []\n",
    "data = pd.read_csv(\"test.csv\")\n",
    "ID_set = data['PassengerId']\n",
    "#print ID_set\n",
    "res = np.r_[ID_set[None,:],x[None,:]]\n",
    "res = res.T\n",
    "print len(res)\n",
    "print len(res[0])"
   ]
  },
  {
   "cell_type": "code",
   "execution_count": 5,
   "metadata": {
    "collapsed": true
   },
   "outputs": [],
   "source": [
    "np.savetxt(\"submission.csv\", res, delimiter = \",\", fmt = \"%d\")"
   ]
  },
  {
   "cell_type": "code",
   "execution_count": null,
   "metadata": {
    "collapsed": true
   },
   "outputs": [],
   "source": []
  }
 ],
 "metadata": {
  "kernelspec": {
   "display_name": "Python 2",
   "language": "python",
   "name": "python2"
  },
  "language_info": {
   "codemirror_mode": {
    "name": "ipython",
    "version": 2
   },
   "file_extension": ".py",
   "mimetype": "text/x-python",
   "name": "python",
   "nbconvert_exporter": "python",
   "pygments_lexer": "ipython2",
   "version": "2.7.13"
  }
 },
 "nbformat": 4,
 "nbformat_minor": 2
}
