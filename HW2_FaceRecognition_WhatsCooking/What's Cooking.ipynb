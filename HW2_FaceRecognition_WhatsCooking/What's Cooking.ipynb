{
 "cells": [
  {
   "cell_type": "code",
   "execution_count": 47,
   "metadata": {
    "collapsed": true
   },
   "outputs": [],
   "source": [
    "import json\n",
    "import os\n",
    "import numpy as np"
   ]
  },
  {
   "cell_type": "code",
   "execution_count": 48,
   "metadata": {
    "collapsed": true
   },
   "outputs": [],
   "source": [
    "os.chdir('/Users/Yanean/Desktop/ML/HW2/cooking')\n",
    "train = json.loads(open('train.json').read())\n",
    "test = json.loads(open('test.json').read())"
   ]
  },
  {
   "cell_type": "code",
   "execution_count": 49,
   "metadata": {},
   "outputs": [
    {
     "name": "stdout",
     "output_type": "stream",
     "text": [
      "20\n",
      "6714\n",
      "39774\n",
      "{'cajun_creole': 0, 'indian': 1, 'japanese': 2, 'chinese': 3, 'brazilian': 4, 'italian': 5, 'french': 6, 'korean': 7, 'vietnamese': 8, 'filipino': 9, 'greek': 10, 'mexican': 11, 'irish': 12, 'spanish': 13, 'moroccan': 14, 'british': 15, 'jamaican': 16, 'southern_us': 17, 'russian': 18, 'thai': 19}\n"
     ]
    }
   ],
   "source": [
    "cat = set()\n",
    "lbl = set()\n",
    "sample = set()\n",
    "\n",
    "for k in train:\n",
    "    ing = k['ingredients']\n",
    "    for u in ing:\n",
    "        cat.add(u)\n",
    "    lbl.add(k['cuisine'])\n",
    "    sample.add(k['id'])\n",
    "\n",
    "num_of_ingredients = len(cat)\n",
    "num_of_cuisine = len(lbl)\n",
    "num_of_sample = len(sample)\n",
    "print(num_of_cuisine)\n",
    "print(num_of_ingredients)\n",
    "print(len(sample))\n",
    "\n",
    "cat_map = {}\n",
    "for i,t in enumerate(list(cat)):\n",
    "    cat_map[t] = i\n",
    "lbl_map = {}\n",
    "for i,t in enumerate(list(lbl)):\n",
    "    lbl_map[t] = i\n",
    "print (lbl_map)"
   ]
  },
  {
   "cell_type": "code",
   "execution_count": 56,
   "metadata": {},
   "outputs": [
    {
     "name": "stdout",
     "output_type": "stream",
     "text": [
      "[0 0 0 ..., 0 0 0]\n"
     ]
    }
   ],
   "source": [
    "train_data = []\n",
    "train_label = []\n",
    "features  = []\n",
    "for k in train:\n",
    "    ing = k['ingredients']\n",
    "    features = [0]*num_of_ingredients\n",
    "    for u in ing:\n",
    "        features[cat_map[u]] = 1\n",
    "    train_data.append(features)\n",
    "    train_label.append(lbl_map[k['cuisine']])\n",
    "\n",
    "\n",
    "train_data, train_label = np.array(train_data), np.array(train_label)\n",
    "train_data.shape, train_label.shape\n",
    "print(train_label)\n",
    "print(train_data)"
   ]
  },
  {
   "cell_type": "code",
   "execution_count": 25,
   "metadata": {},
   "outputs": [
    {
     "name": "stdout",
     "output_type": "stream",
     "text": [
      "['baking powder', 'eggs', 'all-purpose flour', 'raisins', 'milk', 'white sugar']\n"
     ]
    }
   ],
   "source": [
    "print(test[0]['ingredients'])"
   ]
  },
  {
   "cell_type": "code",
   "execution_count": 28,
   "metadata": {
    "collapsed": true
   },
   "outputs": [],
   "source": [
    "test_data = []\n",
    "cat1 = set()\n",
    "\n",
    "for a in test:\n",
    "    ing = a['ingredients']\n",
    "    for b in ing:\n",
    "        cat1.add(b) \n",
    "number_of_ingredient = len(cat) \n",
    "    \n",
    "for a in test:\n",
    "    ing = a['ingredients'] \n",
    "    features = [0]*number_of_ingredient # use the same length of the list in train data set\n",
    "    for b in ing:\n",
    "        if b not in cat_map.keys():\n",
    "            continue\n",
    "        features[cat_map[b]] = 1\n",
    "    test_data.append(features)\n",
    "test_data = np.array(test_data)"
   ]
  },
  {
   "cell_type": "code",
   "execution_count": 29,
   "metadata": {},
   "outputs": [
    {
     "name": "stdout",
     "output_type": "stream",
     "text": [
      "0.379016442902\n",
      "0.382938603108\n",
      "0.377583345904\n"
     ]
    }
   ],
   "source": [
    "from sklearn import cross_validation\n",
    "from sklearn.naive_bayes import GaussianNB\n",
    "from sklearn.metrics import accuracy_score\n",
    "clf1 = GaussianNB()\n",
    "cv1 = cross_validation.KFold(len(train_data),n_folds = 3)\n",
    "\n",
    "for tr_cv,te_cv in cv1:\n",
    "    clf1.fit(train_data[tr_cv],train_label[tr_cv])\n",
    "    pred1 = clf1.predict(train_data[te_cv])\n",
    "    accuracy1 = accuracy_score(pred1,train_label[te_cv])\n",
    "    print(accuracy1)"
   ]
  },
  {
   "cell_type": "code",
   "execution_count": 30,
   "metadata": {},
   "outputs": [
    {
     "name": "stdout",
     "output_type": "stream",
     "text": [
      "0.684190677327\n",
      "0.679514255544\n",
      "0.686906019007\n"
     ]
    }
   ],
   "source": [
    "from sklearn.naive_bayes import BernoulliNB\n",
    "clf2 = BernoulliNB()\n",
    "for tr_cv,te_cv in cv1:\n",
    "    clf2.fit(train_data[tr_cv],train_label[tr_cv])\n",
    "    pred2 = clf2.predict(train_data[te_cv])\n",
    "    accuracy2 = accuracy_score(pred2,train_label[te_cv])\n",
    "    print(accuracy2)"
   ]
  },
  {
   "cell_type": "code",
   "execution_count": 31,
   "metadata": {},
   "outputs": [
    {
     "name": "stdout",
     "output_type": "stream",
     "text": [
      "0.775758032886\n"
     ]
    }
   ],
   "source": [
    "from sklearn.linear_model import LogisticRegression\n",
    "logreg = LogisticRegression()\n",
    "from sklearn.cross_validation import train_test_split\n",
    "x_train, x_test, y_train, y_test = train_test_split(train_data, train_label)\n",
    "from sklearn import metrics, cross_validation\n",
    "pred3 = cross_validation.cross_val_predict(logreg, train_data, train_label,cv=3)\n",
    "accuracy3 = metrics.accuracy_score(train_label,pred3)\n",
    "print(accuracy3)\n"
   ]
  },
  {
   "cell_type": "code",
   "execution_count": 32,
   "metadata": {},
   "outputs": [],
   "source": [
    "logreg.fit(train_data, train_label)\n",
    "result = logreg.predict(test_data)"
   ]
  },
  {
   "cell_type": "code",
   "execution_count": 46,
   "metadata": {},
   "outputs": [],
   "source": [
    "import pandas as pd\n",
    "test = pd.read_json('test.json')\n",
    "\n",
    "inv_map = {}\n",
    "for i in lbl_map:\n",
    "    inv_map[lbl_map[i]]=i\n",
    "temp = []\n",
    "for i in result:\n",
    "    temp.append(inv_map[i]);\n",
    "\n",
    "test['cuisine'] = temp\n",
    "test = test.drop('ingredients', axis = 1)\n",
    "test.to_csv('output.csv')\n"
   ]
  },
  {
   "cell_type": "code",
   "execution_count": null,
   "metadata": {
    "collapsed": true
   },
   "outputs": [],
   "source": []
  },
  {
   "cell_type": "code",
   "execution_count": null,
   "metadata": {
    "collapsed": true
   },
   "outputs": [],
   "source": []
  }
 ],
 "metadata": {
  "kernelspec": {
   "display_name": "Python 3",
   "language": "python",
   "name": "python3"
  },
  "language_info": {
   "codemirror_mode": {
    "name": "ipython",
    "version": 3
   },
   "file_extension": ".py",
   "mimetype": "text/x-python",
   "name": "python",
   "nbconvert_exporter": "python",
   "pygments_lexer": "ipython3",
   "version": "3.6.1"
  }
 },
 "nbformat": 4,
 "nbformat_minor": 2
}
